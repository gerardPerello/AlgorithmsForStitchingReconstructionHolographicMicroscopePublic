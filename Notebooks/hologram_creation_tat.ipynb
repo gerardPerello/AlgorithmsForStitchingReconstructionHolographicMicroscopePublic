{
 "cells": [
  {
   "cell_type": "code",
   "execution_count": 2,
   "metadata": {
    "pycharm": {
     "name": "#%%\n"
    }
   },
   "outputs": [],
   "source": [
    "#VISUALITZACIÓ D'IMATGES\n",
    "import numpy as np\n",
    "from matplotlib import pyplot as plt\n",
    "def visualizeN(imagesList, nRows, nColumns, grayScale=True, titles=[],figSize=None):\n",
    "    hasTitles = len(titles) >= len(imagesList)\n",
    "    if figSize is None:\n",
    "        figSize=(2*nColumns+5, 2*nRows+5)\n",
    "    fig=plt.figure(figsize=figSize)\n",
    "    for i in range (1,len(imagesList)+1):\n",
    "            fig.add_subplot(nRows,nColumns,i)\n",
    "            if grayScale:\n",
    "                plt.imshow(imagesList[i-1], cmap='gray')\n",
    "            else:\n",
    "                plt.imshow(imagesList[i-1])\n",
    "            if hasTitles:\n",
    "                plt.title(titles[i-1])\n",
    "            plt.xticks([])\n",
    "            plt.yticks([])\n",
    "    plt.show()\n",
    "\n",
    "def vis1(image,figSize=(20,20)):\n",
    "    visualizeN([image],1,1,figSize=figSize)"
   ]
  },
  {
   "cell_type": "code",
   "execution_count": 3,
   "metadata": {
    "pycharm": {
     "name": "#%%\n"
    }
   },
   "outputs": [
    {
     "name": "stdout",
     "output_type": "stream",
     "text": [
      "(-1+0j)\n"
     ]
    }
   ],
   "source": [
    "imaI = 0 + 1j\n",
    "\n",
    "print(imaI**2)"
   ]
  },
  {
   "cell_type": "code",
   "execution_count": 4,
   "metadata": {
    "pycharm": {
     "name": "#%%\n"
    }
   },
   "outputs": [],
   "source": [
    "\"\"\"\n",
    "LO MISMO QUE ABAJO PERO SIN COMPLEJOS\n",
    "\"\"\"\n",
    "import math\n",
    "imaI = 0 + 1j\n",
    "def PropagatorReal(Nvalue, lambdaValue, areaValue, zValue):\n",
    "\n",
    "    p = np.zeros((Nvalue,Nvalue))\n",
    "\n",
    "    for ii in range(0,Nvalue):\n",
    "\n",
    "        for jj in range(0,Nvalue):\n",
    "\n",
    "            alpha = lambdaValue * ( ii - Nvalue/2 ) / areaValue\n",
    "\n",
    "            beta = lambdaValue * ( jj - Nvalue/2 ) / areaValue\n",
    "\n",
    "            if (alpha**2 + beta**2) <= 1:\n",
    "\n",
    "                p[ii, jj] = np.exp( -2*np.pi*imaI*zValue * np.sqrt( 1 - alpha**2 - beta**2 ) / lambdaValue )\n",
    "    \n",
    "    print(p.shape)\n",
    "    return p\n",
    "\n",
    "\n",
    "def FT2DcReal(invalue):\n",
    "    Nx, Ny = invalue.shape\n",
    "\n",
    "    f1 = np.zeros((Nx,Ny))\n",
    "\n",
    "    for ii in range(0,Nx):\n",
    "\n",
    "        for jj in range(0,Ny):\n",
    "\n",
    "            f1[ii,jj] = np.exp(imaI * np.pi * (ii + jj))\n",
    "\n",
    "    FT = np.fft.fft2(f1 * invalue)\n",
    "\n",
    "\n",
    "    return f1 * FT\n",
    "\n",
    "def IFT2DcReal(invalue):\n",
    "\n",
    "    Nx, Ny = invalue.shape\n",
    "\n",
    "    f1 = np.zeros((Nx,Ny))\n",
    "\n",
    "    for ii in range(0,Nx):\n",
    "\n",
    "        for jj in range(0,Ny):\n",
    "\n",
    "            f1[ii,jj] = np.exp(-imaI * np.pi * (ii + jj))\n",
    "\n",
    "    FT = np.fft.ifft2(f1 * invalue)\n",
    "\n",
    "    return f1 * FT\n",
    "\n"
   ]
  },
  {
   "cell_type": "code",
   "execution_count": 5,
   "metadata": {
    "pycharm": {
     "name": "#%%\n"
    }
   },
   "outputs": [],
   "source": [
    "import math\n",
    "import cmath\n",
    "\n",
    "imaI = 0 + 1j\n",
    "def Propagator(Nvalue, lambdaValue, areaValue, zValue):\n",
    "\n",
    "    p = np.zeros((Nvalue,Nvalue),dtype='complex')\n",
    "\n",
    "\n",
    "    for ii in range(0,Nvalue):\n",
    "\n",
    "        for jj in range(0,Nvalue):\n",
    "\n",
    "            alpha = lambdaValue * ( ii - Nvalue/2 ) / areaValue\n",
    "\n",
    "            beta = lambdaValue * ( jj - Nvalue/2 ) / areaValue\n",
    "\n",
    "            if (alpha**2 + beta**2) <= 1:\n",
    "\n",
    "                p[ii, jj] = cmath.exp( -2*np.pi*imaI*zValue * np.sqrt( 1 - alpha**2 - beta**2 ) / lambdaValue )\n",
    "    \n",
    "    return p\n",
    "\n",
    "def PropagatorS(Nvalue, lambdaValue, areaValue, zValue):\n",
    "    delta0 = 1 / areaValue\n",
    "\n",
    "    p = np.zeros((Nvalue,Nvalue),dtype='complex')\n",
    "\n",
    "    for ii in range(0, Nvalue):\n",
    "        for jj in range(0, Nvalue):\n",
    "            u = delta0 * (ii - Nvalue/2)\n",
    "            v = delta0 * (jj - Nvalue/2)\n",
    "\n",
    "            p[ii,jj] = cmath.exp( imaI*np.pi*lambdaValue*zValue * (u**2 + v**2))\n",
    "    \n",
    "    return p\n",
    "\n",
    "\n",
    "def FT2Dc(invalue):\n",
    "    Nx, Ny = invalue.shape\n",
    "\n",
    "    f1 = np.zeros((Nx,Ny),dtype='complex')\n",
    "\n",
    "    for ii in range(0,Nx):\n",
    "\n",
    "        for jj in range(0,Ny):\n",
    "\n",
    "            f1[ii,jj] = cmath.exp(imaI * np.pi * (ii + jj))\n",
    "\n",
    "    FT = np.fft.fft2(f1 * invalue)\n",
    "\n",
    "    return f1 * FT\n",
    "\n",
    "def IFT2Dc(invalue):\n",
    "\n",
    "    Nx, Ny = invalue.shape\n",
    "\n",
    "    f1 = np.zeros((Nx,Ny),dtype='complex')\n",
    "\n",
    "    for ii in range(0,Nx):\n",
    "\n",
    "        for jj in range(0,Ny):\n",
    "\n",
    "            f1[ii,jj] = cmath.exp( -imaI * np.pi * (ii + jj) )\n",
    "\n",
    "    FT = np.fft.ifft2(f1 * invalue)\n",
    "\n",
    "    return f1 * FT\n",
    "\n",
    "\n"
   ]
  },
  {
   "cell_type": "code",
   "execution_count": 6,
   "metadata": {
    "pycharm": {
     "name": "#%%\n"
    }
   },
   "outputs": [
    {
     "name": "stdout",
     "output_type": "stream",
     "text": [
      "Unexpected exception formatting exception. Falling back to standard exception\n"
     ]
    },
    {
     "name": "stderr",
     "output_type": "stream",
     "text": [
      "Traceback (most recent call last):\n",
      "  File \"/usr/local/lib/python3.8/dist-packages/IPython/core/interactiveshell.py\", line 3398, in run_code\n",
      "    exec(code_obj, self.user_global_ns, self.user_ns)\n",
      "  File \"/tmp/ipykernel_70933/1372443582.py\", line 2, in <cell line: 2>\n",
      "    object0 = io.imread(\"../Imagenes_Proyecto_Micro/amongus.png\")\n",
      "NameError: name 'io' is not defined\n",
      "\n",
      "During handling of the above exception, another exception occurred:\n",
      "\n",
      "Traceback (most recent call last):\n",
      "  File \"/usr/local/lib/python3.8/dist-packages/IPython/core/interactiveshell.py\", line 1993, in showtraceback\n",
      "    stb = self.InteractiveTB.structured_traceback(\n",
      "  File \"/usr/local/lib/python3.8/dist-packages/IPython/core/ultratb.py\", line 1118, in structured_traceback\n",
      "    return FormattedTB.structured_traceback(\n",
      "  File \"/usr/local/lib/python3.8/dist-packages/IPython/core/ultratb.py\", line 1012, in structured_traceback\n",
      "    return VerboseTB.structured_traceback(\n",
      "  File \"/usr/local/lib/python3.8/dist-packages/IPython/core/ultratb.py\", line 865, in structured_traceback\n",
      "    formatted_exception = self.format_exception_as_a_whole(etype, evalue, etb, number_of_lines_of_context,\n",
      "  File \"/usr/local/lib/python3.8/dist-packages/IPython/core/ultratb.py\", line 799, in format_exception_as_a_whole\n",
      "    self.get_records(etb, number_of_lines_of_context, tb_offset) if etb else []\n",
      "  File \"/usr/local/lib/python3.8/dist-packages/IPython/core/ultratb.py\", line 845, in get_records\n",
      "    style = stack_data.style_with_executing_node(style, \"bg:ansiyellow\")\n",
      "  File \"/usr/local/lib/python3.8/dist-packages/stack_data/core.py\", line 424, in style_with_executing_node\n",
      "    class NewStyle(style):\n",
      "  File \"/usr/lib/python3/dist-packages/pygments/style.py\", line 91, in __new__\n",
      "    ndef[4] = colorformat(styledef[3:])\n",
      "  File \"/usr/lib/python3/dist-packages/pygments/style.py\", line 58, in colorformat\n",
      "    assert False, \"wrong color format %r\" % text\n",
      "AssertionError: wrong color format 'ansiyellow'\n"
     ]
    }
   ],
   "source": [
    "from skimage.transform import resize\n",
    "object0 = io.imread(\"../Imagenes_Proyecto_Micro/amongus.png\")\n",
    "object0 = resize(object0,(500,500))\n",
    "io.imshow(object0)\n",
    "io.show()\n",
    "print(object0.shape)"
   ]
  },
  {
   "cell_type": "code",
   "execution_count": null,
   "metadata": {
    "pycharm": {
     "name": "#%%\n"
    }
   },
   "outputs": [],
   "source": [
    "from skimage import io\n",
    "import numpy as np\n",
    "\n",
    "\n",
    "def createHologram(path, N = 500, lamb = 500e-9, area = 0.002, z = 0.08,vis=True,save=False):\n",
    "\n",
    "    #Creating object\n",
    "\n",
    "    object = np.zeros((N,N))\n",
    "\n",
    "    img = io.imread(path)\n",
    "\n",
    "    img = resize(img,(500,500))\n",
    "\n",
    "    #img = np.asarray(img,dtype='complex')\n",
    "\n",
    "\n",
    "    img1 = np.rot90(img[:,:,1],3)\n",
    "\n",
    "    img2 = (img1 - np.min(img1)) / (np.max(img1) - np.min(img1))\n",
    "\n",
    "    io.imshow(np.rot90(abs(img2)))\n",
    "    io.show()\n",
    "    img3 = (1 - img2)\n",
    "\n",
    "\n",
    "    # Simulation of hologram\n",
    "\n",
    "    prop = Propagator(N, lamb, area, z)\n",
    "\n",
    "    U = IFT2Dc(FT2Dc(img3) * prop)\n",
    "\n",
    "    hologram = abs(U)**2\n",
    "\n",
    "    if vis:\n",
    "        vis1(hologram,figSize=(10,10))\n",
    "\n",
    "    p = hologram\n",
    "\n",
    "    p = 255 * ( p - np.min(p) ) / ( np.max(p) - np.min(p) )\n",
    "\n",
    "    if save:\n",
    "        io.imsave(\"outputs/hologram.png\",np.rot90(p))\n",
    "\n",
    "createHologram(\"../Imagenes_Proyecto_Micro/amongus.png\")\n"
   ]
  },
  {
   "cell_type": "code",
   "execution_count": null,
   "metadata": {
    "pycharm": {
     "name": "#%%\n"
    }
   },
   "outputs": [],
   "source": [
    "#parameters \n",
    "\n",
    "###\n",
    "# lamb ==> wave lenght (nm)\n",
    "# area ==> (mm)\n",
    "def reconstructHologram(path, N = 500, lamb = 500, area = 2, z_start = 0.08, z_end = 0.09, z_step = 0.005, vis=True, save=False):\n",
    "\n",
    "    lamb = lamb * 10**-9\n",
    "    area = area * 10**-3\n",
    "\n",
    "\n",
    "    #Creating object\n",
    "\n",
    "    object = np.zeros((N,N))\n",
    "\n",
    "    hologramO = io.imread(path)\n",
    "\n",
    "    hologramO = resize(hologramO,(N,N))\n",
    "\n",
    "    S = round((z_end - z_start) / z_step)\n",
    "\n",
    "    reconstructionO = np.zeros((N,N,S))\n",
    "\n",
    "    for ii in range(0,S):\n",
    "\n",
    "        z = z_start + ii*z_step\n",
    "\n",
    "        prop = Propagator(N, lamb, area, z)\n",
    "\n",
    "        recO = np.abs(IFT2Dc(FT2Dc(hologramO) * prop))\n",
    "\n",
    "        reconstructionO[:,:,ii] = recO[:,:]\n",
    "        if vis:\n",
    "            vis1(np.rot90((reconstructionO[:,:,ii])),figSize=(7,7))\n",
    "        \n",
    "\n",
    "    p = recO\n",
    "\n",
    "    p = 255 * ( p - np.min(p) ) / ( np.max(p) - np.min(p) )\n",
    "\n",
    "    if save:\n",
    "        io.imsave(\"outputs/hologram_rec.png\",np.rot90(p))\n",
    "\n",
    "reconstructHologram(\"./hologram.png\")\n"
   ]
  },
  {
   "cell_type": "code",
   "execution_count": null,
   "metadata": {
    "pycharm": {
     "name": "#%%\n"
    }
   },
   "outputs": [],
   "source": [
    "\n",
    "def reconstructHologramSph(path, N = 500, lamb = 500, h = 0.05,z=0.1, z_start = 0.08, z_end = 0.09, z_step = 0.005, vis=True, save=False):\n",
    "\n",
    "    lamb = lamb * 1e-9\n",
    "\n",
    "\n",
    "    #Creating object\n",
    "\n",
    "    hologramO = io.imread(path)\n",
    "    print(hologramO.shape)\n",
    "    vis1(hologramO,figSize=(7,7))\n",
    "\n",
    "    hologramO = hologramO[:N,:N]\n",
    "\n",
    "    S = round((z_end - z_start) / z_step)\n",
    "\n",
    "    reconstructionO = np.zeros((N,N,S))\n",
    "\n",
    "    for ii in range(0,S):\n",
    "\n",
    "        z0 = z_start + ii*z_step\n",
    "        print(ii)\n",
    "        area = z0*h/z\n",
    "        print(area)\n",
    "\n",
    "        prop = PropagatorS(N, lamb, area, z0)\n",
    "\n",
    "        recO = np.abs(IFT2Dc(FT2Dc(hologramO) * prop))\n",
    "\n",
    "        reconstructionO[:,:,ii] = recO[:,:]\n",
    "        if vis:\n",
    "            vis1((reconstructionO[:, :, ii]), figSize=(20, 20))\n",
    "        \n",
    "\n",
    "    p = recO\n",
    "\n",
    "    p = 255 * ( p - np.min(p) ) / ( np.max(p) - np.min(p) )\n",
    "\n",
    "    if save:\n",
    "        io.imsave(\"outputs/hologram_rec.png\",np.rot90(p))"
   ]
  },
  {
   "cell_type": "code",
   "execution_count": null,
   "metadata": {
    "pycharm": {
     "name": "#%%\n"
    }
   },
   "outputs": [],
   "source": [
    "#reconstructHologram(\"./prueba.png\",N=500,lamb=530,area=6.124,z_start=0.08,z_end=0.12,z_step=0.005)"
   ]
  },
  {
   "cell_type": "code",
   "execution_count": 7,
   "metadata": {
    "pycharm": {
     "name": "#%%\n"
    }
   },
   "outputs": [
    {
     "name": "stdout",
     "output_type": "stream",
     "text": [
      "Unexpected exception formatting exception. Falling back to standard exception\n"
     ]
    },
    {
     "name": "stderr",
     "output_type": "stream",
     "text": [
      "Traceback (most recent call last):\n",
      "  File \"/usr/local/lib/python3.8/dist-packages/IPython/core/interactiveshell.py\", line 3398, in run_code\n",
      "    exec(code_obj, self.user_global_ns, self.user_ns)\n",
      "  File \"/tmp/ipykernel_70933/543416418.py\", line 28, in <cell line: 28>\n",
      "    reconstructHologramSph(\"./pruebabuena.png\",N=480,lamb=530,h=0.54e-3,z=0.1,z_start=2.8,z_end=3.2,z_step=0.1)\n",
      "NameError: name 'reconstructHologramSph' is not defined\n",
      "\n",
      "During handling of the above exception, another exception occurred:\n",
      "\n",
      "Traceback (most recent call last):\n",
      "  File \"/usr/local/lib/python3.8/dist-packages/IPython/core/interactiveshell.py\", line 1993, in showtraceback\n",
      "    stb = self.InteractiveTB.structured_traceback(\n",
      "  File \"/usr/local/lib/python3.8/dist-packages/IPython/core/ultratb.py\", line 1118, in structured_traceback\n",
      "    return FormattedTB.structured_traceback(\n",
      "  File \"/usr/local/lib/python3.8/dist-packages/IPython/core/ultratb.py\", line 1012, in structured_traceback\n",
      "    return VerboseTB.structured_traceback(\n",
      "  File \"/usr/local/lib/python3.8/dist-packages/IPython/core/ultratb.py\", line 865, in structured_traceback\n",
      "    formatted_exception = self.format_exception_as_a_whole(etype, evalue, etb, number_of_lines_of_context,\n",
      "  File \"/usr/local/lib/python3.8/dist-packages/IPython/core/ultratb.py\", line 799, in format_exception_as_a_whole\n",
      "    self.get_records(etb, number_of_lines_of_context, tb_offset) if etb else []\n",
      "  File \"/usr/local/lib/python3.8/dist-packages/IPython/core/ultratb.py\", line 845, in get_records\n",
      "    style = stack_data.style_with_executing_node(style, \"bg:ansiyellow\")\n",
      "  File \"/usr/local/lib/python3.8/dist-packages/stack_data/core.py\", line 424, in style_with_executing_node\n",
      "    class NewStyle(style):\n",
      "  File \"/usr/lib/python3/dist-packages/pygments/style.py\", line 91, in __new__\n",
      "    ndef[4] = colorformat(styledef[3:])\n",
      "  File \"/usr/lib/python3/dist-packages/pygments/style.py\", line 58, in colorformat\n",
      "    assert False, \"wrong color format %r\" % text\n",
      "AssertionError: wrong color format 'ansiyellow'\n"
     ]
    }
   ],
   "source": [
    "\"\"\"\n",
    "def createHoloComplete(type=0,wavelenght = 530,metaCorrection = True,outputShape=1944, distanceValue=10,\n",
    "    spacingValue=6.00, magnificationValue=68.14, zminValue = 100000, zMaxValue = 100000, stepsN = 1):\n",
    "\n",
    "    holo = holopy.core.process.bg_correct(raw, back+1, back)\n",
    "    if metaCorrection:\n",
    "        holo = holopy.core.update_metadata(holo, medium_index=1, illum_wavelen=wavelenght*1e-9)\n",
    "\n",
    "    zstack = np.linspace(zminValue*1e-6, zMaxValue*1e-6, num = stepsN, endpoint=True)\n",
    "    if type == 0:\n",
    "        beam_c = center_of_mass(back.values.squeeze())\n",
    "        out_schema = holopy.core.detector_grid(shape=outputShape, spacing=spacingValue * 1e-6 / magnificationValue)\n",
    "        rec_vol = holopy.propagation.ps_propagate(holo, zstack, distanceValue*1e-3, beam_c, out_schema)\n",
    "    else:\n",
    "        rec_vol = holopy.propagate(holo, zstack)\n",
    "    \n",
    "    return rec_vol\n",
    "\n",
    "\"\"\"\n",
    "# N % number of pixels\n",
    "# lambda  waveleng th in meter\n",
    "# h hologram size in meter\n",
    "# z source−to−detector distance in meter\n",
    "# zstart start source−to−sample distance in meter\n",
    "# zend end source−to−sample distance in meter\n",
    "# zstep step source−to−sample distance in meter\n",
    "\n",
    "reconstructHologramSph(\"./pruebabuena.png\",N=480,lamb=530,h=0.54e-3,z=0.1,z_start=2.8,z_end=3.2,z_step=0.1)"
   ]
  },
  {
   "cell_type": "code",
   "execution_count": 8,
   "outputs": [
    {
     "name": "stdout",
     "output_type": "stream",
     "text": [
      "Unexpected exception formatting exception. Falling back to standard exception\n"
     ]
    },
    {
     "name": "stderr",
     "output_type": "stream",
     "text": [
      "Traceback (most recent call last):\n",
      "  File \"/usr/local/lib/python3.8/dist-packages/IPython/core/interactiveshell.py\", line 3398, in run_code\n",
      "    exec(code_obj, self.user_global_ns, self.user_ns)\n",
      "  File \"/tmp/ipykernel_70933/3596318020.py\", line 1, in <cell line: 1>\n",
      "    reconstructHologramSph(\"./prueba.png\",N=2298,lamb=530,h=0.54e-3*2298/480,z=0.1,z_start=2.8,z_end=3.2,z_step=0.1)\n",
      "NameError: name 'reconstructHologramSph' is not defined\n",
      "\n",
      "During handling of the above exception, another exception occurred:\n",
      "\n",
      "Traceback (most recent call last):\n",
      "  File \"/usr/local/lib/python3.8/dist-packages/IPython/core/interactiveshell.py\", line 1993, in showtraceback\n",
      "    stb = self.InteractiveTB.structured_traceback(\n",
      "  File \"/usr/local/lib/python3.8/dist-packages/IPython/core/ultratb.py\", line 1118, in structured_traceback\n",
      "    return FormattedTB.structured_traceback(\n",
      "  File \"/usr/local/lib/python3.8/dist-packages/IPython/core/ultratb.py\", line 1012, in structured_traceback\n",
      "    return VerboseTB.structured_traceback(\n",
      "  File \"/usr/local/lib/python3.8/dist-packages/IPython/core/ultratb.py\", line 865, in structured_traceback\n",
      "    formatted_exception = self.format_exception_as_a_whole(etype, evalue, etb, number_of_lines_of_context,\n",
      "  File \"/usr/local/lib/python3.8/dist-packages/IPython/core/ultratb.py\", line 799, in format_exception_as_a_whole\n",
      "    self.get_records(etb, number_of_lines_of_context, tb_offset) if etb else []\n",
      "  File \"/usr/local/lib/python3.8/dist-packages/IPython/core/ultratb.py\", line 845, in get_records\n",
      "    style = stack_data.style_with_executing_node(style, \"bg:ansiyellow\")\n",
      "  File \"/usr/local/lib/python3.8/dist-packages/stack_data/core.py\", line 424, in style_with_executing_node\n",
      "    class NewStyle(style):\n",
      "  File \"/usr/lib/python3/dist-packages/pygments/style.py\", line 91, in __new__\n",
      "    ndef[4] = colorformat(styledef[3:])\n",
      "  File \"/usr/lib/python3/dist-packages/pygments/style.py\", line 58, in colorformat\n",
      "    assert False, \"wrong color format %r\" % text\n",
      "AssertionError: wrong color format 'ansiyellow'\n"
     ]
    }
   ],
   "source": [
    "reconstructHologramSph(\"./prueba.png\",N=2298,lamb=530,h=0.54e-3*2298/480,z=0.1,z_start=2.8,z_end=3.2,z_step=0.1)"
   ],
   "metadata": {
    "collapsed": false,
    "pycharm": {
     "name": "#%%\n"
    }
   }
  },
  {
   "cell_type": "code",
   "execution_count": null,
   "metadata": {
    "pycharm": {
     "name": "#%%\n"
    }
   },
   "outputs": [],
   "source": []
  }
 ],
 "metadata": {
  "interpreter": {
   "hash": "9eac4c74fd5955421255716c829f3f59a28d60a39e8b721f8ff72e5741a0a6fe"
  },
  "kernelspec": {
   "display_name": "Python 3.10.4 ('venv': venv)",
   "language": "python",
   "name": "python3"
  },
  "language_info": {
   "codemirror_mode": {
    "name": "ipython",
    "version": 3
   },
   "file_extension": ".py",
   "mimetype": "text/x-python",
   "name": "python",
   "nbconvert_exporter": "python",
   "pygments_lexer": "ipython3",
   "version": "3.10.4"
  },
  "orig_nbformat": 4
 },
 "nbformat": 4,
 "nbformat_minor": 2
}